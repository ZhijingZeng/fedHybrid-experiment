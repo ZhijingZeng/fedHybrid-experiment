{
 "cells": [
  {
   "cell_type": "code",
   "execution_count": null,
   "metadata": {},
   "outputs": [],
   "source": [
    "%load_ext autoreload\n",
    "%autoreload\n",
    "from tune_and_draw import TuneAndDraw\n",
    "from fedhybrid_innerloops import FedHybrid\n",
    "from parameter import TuneParam,TrainParam\n",
    "from costFunc import LogisticCostFunc\n",
    "import numpy as np\n",
    "import random\n",
    "from sklearn.datasets import load_boston\n",
    "from sklearn.utils import shuffle\n",
    "from sklearn import preprocessing\n",
    "from sklearn.model_selection import train_test_split\n",
    "from sklearn.preprocessing import StandardScaler, LabelEncoder\n",
    "import matplotlib.pyplot as plt\n",
    "from datetime import datetime\n",
    "import json\n",
    "import pandas as pd\n",
    "import numpy as np\n",
    "import random\n",
    "from scipy.optimize import minimize"
   ]
  },
  {
   "cell_type": "code",
   "execution_count": null,
   "metadata": {},
   "outputs": [],
   "source": [
    "def dataset(nclient): \n",
    "    np.random.seed(2022)\n",
    "    random.seed(2022)\n",
    "    df =  pd.read_table('agaricus-lepiota.data', delimiter=',', header=None)\n",
    "    column_labels = [\n",
    "            'class', 'cap shape', 'cap surface', 'cap color', 'bruised', 'odor',\n",
    "            'gill attachment', 'gill spacing', 'gill size', 'gill color', \n",
    "            'stalk shape', 'stalk root', 'stalk surface above ring',\n",
    "            'stalk surface below ring', 'stalk color above ring',\n",
    "            'stalk color below ring', 'veil type', 'veil color', 'ring number',\n",
    "            'ring type', 'spore print color', 'population', 'habitat']\n",
    "\n",
    "    df.columns = column_labels\n",
    "    \n",
    "        # excluding any training example that has missing values for stalk root.\n",
    "    df = df[df['stalk root'] != '?']\n",
    "\n",
    "    X = df.loc[:, df.columns != 'class']\n",
    "    y = df['class'].to_frame()\n",
    "\n",
    "    # Encoding categorical features\n",
    "    X_enc = pd.get_dummies(X)\n",
    "    # Standardizing the features\n",
    "    scaler = StandardScaler()\n",
    "    X_std = scaler.fit_transform(X_enc)\n",
    "\n",
    "    # Encoding the target variable\n",
    "    le = LabelEncoder()\n",
    "    y_enc = le.fit_transform(y.values.ravel())\n",
    "\n",
    "    X_train, X_test, y_train, y_test = train_test_split(X_std, y_enc, test_size=0.3, stratify=y_enc, random_state=42)\n",
    "\n",
    "    # number of examples\n",
    "    #n=354# same as quadratic housing\n",
    "    n = X_train.shape[0]\n",
    "    # ndim\n",
    "    ndim = X_train.shape[1] + 1\n",
    "    # number of classes\n",
    "    k = 2\n",
    "    label = [0,1]\n",
    "\n",
    "    intercept = np.ones((X_train.shape[0], 1))\n",
    "    X_train = np.hstack((intercept, X_train))\n",
    "    intercept = np.ones((X_test.shape[0], 1))\n",
    "    X_test = np.hstack((intercept, X_test))\n",
    "\n",
    "    # Not uniformly distributed among clients\n",
    "\n",
    "    X_train, y_train = shuffle(X_train, y_train)    \n",
    "\n",
    "    X_df = pd.DataFrame([y_train, X_train])\n",
    "\n",
    "    X_df = X_df.T\n",
    "    X_df.columns = ['y_train', 'X_train']\n",
    "\n",
    "    X_df = X_df.reset_index()\n",
    "    #print(X_df.columns)\n",
    "    #X_df=X_df.iloc[:354]\n",
    "\n",
    "    # Split it into different groups according to the label\n",
    "    X_df_0 = X_df[X_df['y_train']==0]\n",
    "    X_df_1 = X_df[X_df['y_train']==1]\n",
    "    #print('len(X_df_0),len(X_df_1)',len(X_df_0),len(X_df_1))\n",
    "    #ni=[45, 38, 29, 12, 62, 76, 36, 56]#same as quadratic housing\n",
    "    p = np.zeros(nclient)\n",
    "    s = 0\n",
    "    for i in range(nclient):\n",
    "        p[i] = np.random.lognormal(4, 2) + 50\n",
    "        s += p[i]\n",
    "    p = p/s\n",
    "    ni = p * n\n",
    "    ni = [int(num) for num in ni]\n",
    "    ni[-1] = ni[-1] + n - sum(ni) \n",
    "    X_df_reorder = pd.concat([X_df_0, X_df_1])\n",
    "    indices_set = [[] for i in range(nclient)]\n",
    "    s = 0\n",
    "    for j in range(nclient):\n",
    "        indices_set[j] =  X_df_reorder['index'].to_list()[s:s+ni[j]]\n",
    "        s += ni[j]\n",
    "    A = [[] for _ in range(nclient)]\n",
    "    y = [[] for _ in range(nclient)]\n",
    "    for i in range(nclient):\n",
    "        A[i] = X_train[indices_set[i]]\n",
    "        y[i] = y_train[indices_set[i]]\n",
    "\n",
    "    for i in range(nclient):\n",
    "        print(ni[i])\n",
    "    return A,y"
   ]
  },
  {
   "cell_type": "code",
   "execution_count": null,
   "metadata": {},
   "outputs": [],
   "source": [
    "def prepare(nclient):\n",
    "    A,y =dataset(nclient)\n",
    "    gamma = 1\n",
    "    func = LogisticCostFunc(A, y, gamma)\n",
    "\n",
    "    initial_x =np.zeros([func.ndim,1])\n",
    "    fn_min = minimize(func.global_func, initial_x, tol=1e-30) #result object\n",
    "    fn_star = fn_min.fun\n",
    "    method = FedHybrid(func, fn_star)\n",
    "    tuneAndDraw = TuneAndDraw(nclient, initial_x,setup=4)\n",
    "    return method,tuneAndDraw"
   ]
  },
  {
   "cell_type": "markdown",
   "metadata": {},
   "source": [
    "synchronous logistic mushroom"
   ]
  },
  {
   "cell_type": "code",
   "execution_count": null,
   "metadata": {},
   "outputs": [],
   "source": [
    "method,tuneAndDraw = prepare(8)\n",
    "ns=[0,2,4,6,8]\n",
    "innerIterations = 1\n",
    "df = tuneAndDraw.readPa(ns,innerIterations)\n",
    "filename=\"./sync_and_async/4 synchronous logistic mushroom.pdf\"\n",
    "tuneAndDraw.draw(df,method.train_innerloop_lambdaBefore,\"synchronous logistic mushroom\",filename,save = 1,asyn=0,possionBeta=[])"
   ]
  },
  {
   "cell_type": "markdown",
   "metadata": {},
   "source": [
    "innerloop 4 logistic mushroom"
   ]
  },
  {
   "cell_type": "code",
   "execution_count": null,
   "metadata": {},
   "outputs": [],
   "source": [
    "method,tuneAndDraw = prepare(8)\n",
    "ns=[0,2,4,6,8]\n",
    "innerIterations = 4\n",
    "df = tuneAndDraw.readPa(ns,innerIterations)\n",
    "filename=\"./sync_and_async/4 innerloop 4 logistic mushroom 2.pdf\"\n",
    "tuneAndDraw.draw(df,method.train_innerloop_lambdaBefore,\"logistic mushroom innerloop 4\",filename,save = 0,asyn=0,possionBeta=[])"
   ]
  },
  {
   "cell_type": "markdown",
   "metadata": {},
   "source": [
    "async logistic mushroom"
   ]
  },
  {
   "cell_type": "code",
   "execution_count": null,
   "metadata": {},
   "outputs": [],
   "source": [
    "method,tuneAndDraw = prepare(8)\n",
    "ns=[0,2,4,6,8]\n",
    "innerIterations = 0\n",
    "df = tuneAndDraw.readPa(ns,innerIterations)\n",
    "filename=\"./sync_and_async/4 asynchronous logistic mushroom.pdf\"\n",
    "tuneAndDraw.draw(df,method.asynchronousTrain2,\"asynchronous logistic mushroom\",filename,save = 1,asyn=1,possionBeta=[5, 10, 4, 1, 2, 7, 100, 5])"
   ]
  }
 ],
 "metadata": {
  "kernelspec": {
   "display_name": "Python 3.9.13 ('cs349hw2')",
   "language": "python",
   "name": "python3"
  },
  "language_info": {
   "codemirror_mode": {
    "name": "ipython",
    "version": 3
   },
   "file_extension": ".py",
   "mimetype": "text/x-python",
   "name": "python",
   "nbconvert_exporter": "python",
   "pygments_lexer": "ipython3",
   "version": "3.9.13"
  },
  "orig_nbformat": 4,
  "vscode": {
   "interpreter": {
    "hash": "83c011b6d1fd8ab47b12eb316f3cd78cbb02a3d22bfe1a70b86554592d45d8b7"
   }
  }
 },
 "nbformat": 4,
 "nbformat_minor": 2
}
