{
 "cells": [
  {
   "cell_type": "code",
   "execution_count": null,
   "metadata": {},
   "outputs": [],
   "source": [
    "%load_ext autoreload\n",
    "%autoreload\n",
    "from fedhybrid_innerloops import FedHybrid\n",
    "from tune_and_draw import TuneAndDraw\n",
    "from parameter import TuneParam,TrainParam\n",
    "from costFunc import QuadraticCostFunc\n",
    "import matplotlib.pyplot as plt\n",
    "from datetime import datetime\n",
    "import numpy as np\n",
    "import random\n",
    "\n",
    "from sklearn.datasets import load_boston\n",
    "from sklearn.utils import shuffle\n",
    "from sklearn import preprocessing\n",
    "from sklearn.model_selection import train_test_split\n",
    "from sklearn.preprocessing import StandardScaler, LabelEncoder\n",
    "\n",
    "import json\n",
    "import pandas as pd\n",
    "import numpy as np\n",
    "from joblib import Parallel, delayed\n",
    "import matplotlib.pyplot as plt\n",
    "from datetime import datetime\n",
    "from scipy.optimize import minimize"
   ]
  },
  {
   "cell_type": "code",
   "execution_count": null,
   "metadata": {},
   "outputs": [],
   "source": [
    "def dataset(nclient):\n",
    "    np.random.seed(2022)\n",
    "    random.seed(2022)\n",
    "    boston_dataset = load_boston()\n",
    "    boston = pd.DataFrame(boston_dataset.data, columns=boston_dataset.feature_names)\n",
    "    boston['MEDV'] = boston_dataset.target\n",
    "    X = boston.drop('MEDV', axis = 1) #Drop columns\n",
    "    y = boston['MEDV']  \n",
    "    scaler = preprocessing.StandardScaler()\n",
    "    X = scaler.fit_transform(X)#x-mean/std(Standard deviation)\n",
    "    X = pd.DataFrame(X)\n",
    "    X_train, X_test, y_train, y_test = train_test_split(X, y, test_size = 0.3, random_state = 5)#Pass an int for reproducible output across multiple function calls.\n",
    "    # Not uniformly distributed among clients\n",
    "    X_train, y_train = shuffle(X_train, y_train)\n",
    "    #for python array we do not need to use copy function but for numpy array, we need to use copy function\n",
    "    X_df = X_train.copy()\n",
    "    X_df['y_train'] = y_train\n",
    "    \n",
    "    X_df = X_df.reset_index(drop=True)\n",
    "\n",
    "    X_df_sorted = X_df.sort_values(by = ['y_train'])\n",
    "    \n",
    "    X_df_sorted = X_df_sorted.reset_index()\n",
    "    #print(X_df_sorted.head(5))# save original index and add new index\n",
    "    X_train = X_df.drop('y_train', axis = 1)\n",
    "    y_train = X_df['y_train']\n",
    "    n = len(y_train)\n",
    "    print('n',n)\n",
    "    ndim = X_train.shape[1] + 1  # to add vector of all ones\n",
    "    print(ndim)\n",
    "    # number of samples \n",
    "    #Compared to the original X_train, it has a new index. start from 0 \n",
    "    #print('X_train.shape[1])',X_train.shape[1])\n",
    "    #print('1: ',X_train.head(5))\n",
    "    intercept = np.ones((X_train.shape[0], 1))\n",
    "    #print(intercept)\n",
    "    X_train = np.hstack((intercept, X_train)) #Stack arrays in sequence horizontally (column wise).\n",
    "    #print('2: ',X_train[0])\n",
    "    intercept = np.ones((X_test.shape[0], 1))\n",
    "    X_test = np.hstack((intercept, X_test))\n",
    "    # number of samples at each client\n",
    "    p = np.zeros(nclient)\n",
    "    s = 0\n",
    "    for i in range(nclient):\n",
    "        p[i] = random.uniform(0.1, 1)\n",
    "        s += p[i]\n",
    "    p = p/s\n",
    "    ni = p.copy() * n #n=len(y_train)\n",
    "    ni = [int(num) for num in ni]\n",
    "    ni[-1] = ni[-1] + n - sum(ni)\n",
    "    #print(ni)\n",
    "    indices_set = [[] for i in range(nclient)]\n",
    "    s = 0\n",
    "    for j in range(nclient):\n",
    "        indices_set[j] =  X_df_sorted['index'].to_list()[s:s+ni[j]]\n",
    "        s += ni[j]\n",
    "    A = [[] for _ in range(nclient)]\n",
    "    y = [[] for _ in range(nclient)]\n",
    "    condiNum = np.zeros(nclient)\n",
    "    for i in range(nclient):\n",
    "        A[i] = X_train[indices_set[i]]\n",
    "        y[i] = y_train[indices_set[i]]\n",
    "        y[i]=y[i].to_numpy()\n",
    "\n",
    "    return A,y"
   ]
  },
  {
   "cell_type": "code",
   "execution_count": null,
   "metadata": {},
   "outputs": [],
   "source": [
    "A,y = dataset(8)\n",
    "condNum= np.zeros(8)\n",
    "for i in range(8):\n",
    "    eigenvalue =np.linalg.eigh(np.transpose(A[i]).dot(A[i]))[0]\n",
    "    condNum[i] = np.sqrt(eigenvalue[-1]/eigenvalue[0])\n",
    "    if np.isnan(condNum[i]):\n",
    "        condNum[i] = np.inf\n",
    "print(condNum)"
   ]
  },
  {
   "cell_type": "code",
   "execution_count": null,
   "metadata": {},
   "outputs": [],
   "source": [
    "\n",
    "def prepare(nclient):\n",
    "    A,y= dataset(nclient)\n",
    "    ndim = len(A[0][0])\n",
    "    func = QuadraticCostFunc(A, y, gamma=1) #cost function \n",
    "    initial_x =  np.zeros([ndim,1])\n",
    "    fn_min = minimize(func.global_func, initial_x, tol=1e-30) #result object\n",
    "    fn_star = fn_min.fun \n",
    "    tuneAndDraw = TuneAndDraw(nclient, initial_x,setup=2)\n",
    "    method = FedHybrid(func, fn_star)\n",
    "    return method,tuneAndDraw"
   ]
  },
  {
   "cell_type": "markdown",
   "metadata": {},
   "source": [
    "synchronous:"
   ]
  },
  {
   "cell_type": "code",
   "execution_count": null,
   "metadata": {},
   "outputs": [],
   "source": [
    "method,tuneAndDraw = prepare(8)\n",
    "ns=[0,2,4,6,8]\n",
    "innerIterations = 1\n",
    "df = tuneAndDraw.readPa(ns,innerIterations)\n",
    "filename=\"./analyze data/analyze data/sync_and_async/synchronous quadratic housing.pdf\"\n",
    "tuneAndDraw.draw(df,method.train_innerloop,\"synchronous quadratic housing\",filename,save = 0,asyn=0,possionBeta=[])"
   ]
  },
  {
   "cell_type": "markdown",
   "metadata": {},
   "source": [
    "async:"
   ]
  },
  {
   "cell_type": "code",
   "execution_count": null,
   "metadata": {},
   "outputs": [],
   "source": [
    "\n",
    "method,tuneAndDraw = prepare(8)\n",
    "ns=[0,2,4,6,8]\n",
    "innerIterations = 0 #only to point to the set of stepsizes with no real meaning \n",
    "df = tuneAndDraw.readPa(ns,innerIterations)\n",
    "filename=\"./sync_and_async/2 asynchronous quadratic housing3.pdf\"\n",
    "tuneAndDraw.draw(df,method.asynchronousTrain2,\"async quadratic housing\",filename,save=0,asyn=1,possionBeta = [1,2,3,1,20,25,4,1])"
   ]
  },
  {
   "cell_type": "markdown",
   "metadata": {},
   "source": [
    "async: to show the bottleneck effect"
   ]
  },
  {
   "cell_type": "code",
   "execution_count": null,
   "metadata": {},
   "outputs": [],
   "source": [
    "method,tuneAndDraw = prepare(8)\n",
    "ns=[60,15,37,47,25,27,12]\n",
    "innerIterations = -1 #only to point to the set of stepsizes with no real meaning \n",
    "df = tuneAndDraw.readPa(ns,innerIterations)\n",
    "filename=\"./sync_and_async/2 async quadratic housing with two Newton-type agents.pdf\"\n",
    "tuneAndDraw.draw(df,method.asynchronousTrain2,\"async quadratic housing with two Newton-type agents\",filename,save=0,asyn=1,possionBeta = [1,2,30,1,2,4,4,1])"
   ]
  },
  {
   "cell_type": "markdown",
   "metadata": {},
   "source": [
    "innerloop"
   ]
  },
  {
   "cell_type": "code",
   "execution_count": null,
   "metadata": {},
   "outputs": [],
   "source": [
    "method,tuneAndDraw = prepare(8)\n",
    "ns=[0,2,4,6,8]\n",
    "innerIterations =4\n",
    "df = tuneAndDraw.readPa(ns,innerIterations)\n",
    "filename=\"./sync_and_async/2 innerloop 4 quadratic housing before2.pdf\"\n",
    "tuneAndDraw.draw(df,method.train_innerloop_lambdaBefore,\"quadratic housing innerloop 4\",filename,save = 0,asyn=0,possionBeta=[])"
   ]
  }
 ],
 "metadata": {
  "kernelspec": {
   "display_name": "Python 3.9.13 ('cs349hw2')",
   "language": "python",
   "name": "python3"
  },
  "language_info": {
   "codemirror_mode": {
    "name": "ipython",
    "version": 3
   },
   "file_extension": ".py",
   "mimetype": "text/x-python",
   "name": "python",
   "nbconvert_exporter": "python",
   "pygments_lexer": "ipython3",
   "version": "3.9.13"
  },
  "orig_nbformat": 4,
  "vscode": {
   "interpreter": {
    "hash": "83c011b6d1fd8ab47b12eb316f3cd78cbb02a3d22bfe1a70b86554592d45d8b7"
   }
  }
 },
 "nbformat": 4,
 "nbformat_minor": 2
}
