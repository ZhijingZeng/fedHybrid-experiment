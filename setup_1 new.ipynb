{
 "cells": [
  {
   "cell_type": "code",
   "execution_count": 1,
   "metadata": {},
   "outputs": [],
   "source": [
    "%load_ext autoreload\n",
    "%autoreload\n",
    "from tune_and_draw import TuneAndDraw\n",
    "from fedhybrid_innerloops import FedHybrid\n",
    "from parameter import TuneParam,TrainParam\n",
    "from costFunc import QuadraticCostFunc\n",
    "import matplotlib.pyplot as plt\n",
    "from datetime import datetime\n",
    "import random\n",
    "import numpy as np\n",
    "import random\n",
    "import pandas as pd\n",
    "from scipy.optimize import minimize\n"
   ]
  },
  {
   "cell_type": "code",
   "execution_count": 2,
   "metadata": {},
   "outputs": [],
   "source": [
    "def dataset(nclient,n):   \n",
    "    mean_nsample_param=4\n",
    "    sigma_nsample_param=2\n",
    "    prior_param_mean=0\n",
    "    prior_param_sigma=0.5\n",
    "    scaling_param_mean=0 #***\n",
    "    scaling_param_sigma=0.5#**\n",
    "    ncond_param = 4\n",
    "    ndim=3\n",
    "    print('local datasizes')\n",
    "\n",
    "    if nclient == 8 and n ==354:\n",
    "        print('efsd')\n",
    "        ni=[45, 38, 29, 12, 62, 76, 36, 56]\n",
    "    else:\n",
    "        p = np.zeros(nclient)\n",
    "        s = 0\n",
    "        for i in range(nclient):\n",
    "            p[i] = random.uniform(0.1, 1)\n",
    "            s += p[i]\n",
    "        p = p/s\n",
    "        print(p)\n",
    "        ni = p * n\n",
    "        ni = [int(num) for num in ni]\n",
    "        ni[-1] = ni[-1] + n - sum(ni) \n",
    "        print(ni)\n",
    "    A = [[] for _ in range(nclient)]\n",
    "    y = [[] for _ in range(nclient)]\n",
    "\n",
    "#### define some eprior ####\n",
    "    x_0 = np.random.normal(prior_param_mean, prior_param_sigma, ndim)\n",
    "    scaling = np.random.lognormal(scaling_param_mean, scaling_param_sigma, nclient) # how diverse the data is\n",
    "\n",
    "    #print('condition number of local Hessians')\n",
    "      \n",
    "    for i in range(nclient):\n",
    "        Ai = np.random.rand(ni[i], ndim) * scaling[i]\n",
    "        #print(i,':',np.linalg.eigh(np.transpose(Ai).dot(Ai))[0][-1])\n",
    "        sig = np.random.random(1)\n",
    "        v = np.random.normal(0, sig, ni[i]) \n",
    "        yi = Ai.dot(x_0) + v\n",
    "        yi = yi.reshape([ni[i], 1])\n",
    "        A[i] = Ai\n",
    "        y[i] = yi\n",
    "    return A,y\n",
    "        \n",
    "\n"
   ]
  },
  {
   "cell_type": "code",
   "execution_count": 3,
   "metadata": {},
   "outputs": [],
   "source": [
    "def prepare(nclient,n):\n",
    "    np.random.seed(2022)\n",
    "    random.seed(2022) \n",
    "    ndim = 3\n",
    "    A,y = dataset(nclient,n)\n",
    "    func = QuadraticCostFunc(A, y, gamma=0.01)\n",
    "    #initial_x = np.random.rand(ndim, 1)\n",
    "    #if nclient != 8:\n",
    "    initial_x = np.zeros([ndim,1])\n",
    "    print('initial_x',initial_x)\n",
    "    fn_min = minimize(func.global_func, initial_x, tol=1e-30)\n",
    "    fn_star = fn_min.fun\n",
    "    tuneAndDraw = TuneAndDraw(nclient, initial_x,setup=1)\n",
    "    method = FedHybrid(func, fn_star)\n",
    "    return method,tuneAndDraw"
   ]
  },
  {
   "cell_type": "markdown",
   "metadata": {},
   "source": [
    "### synchronous synthetic quadratic:"
   ]
  },
  {
   "cell_type": "code",
   "execution_count": null,
   "metadata": {},
   "outputs": [],
   "source": [
    "method,tuneAndDraw = prepare(10,10000)\n",
    "ns=[0,2,4,6,8,10]\n",
    "innerIterations = 1\n",
    "df = tuneAndDraw.readPa(ns,innerIterations)\n",
    "filename=\"./sync_and_async/1 synchronous synthetic quadratic node 10.pdf\"\n",
    "tuneAndDraw.draw(df,method.train_innerloop,\"1 synchronous synthetic quadratic\",filename,save = 0,asyn=0,possionBeta=[])"
   ]
  },
  {
   "cell_type": "markdown",
   "metadata": {},
   "source": [
    "### asynchronous synthetic quadratic:"
   ]
  },
  {
   "cell_type": "code",
   "execution_count": null,
   "metadata": {},
   "outputs": [],
   "source": [
    "method,tuneAndDraw = prepare(10,10000)\n",
    "ns=[0,2,4,6,8,10]\n",
    "innerIterations = 1\n",
    "df = tuneAndDraw.readPa(ns,innerIterations)\n",
    "filename=\"./sync_and_async/1 asynchronous synthetic quadratic.pdf\"\n",
    "\n",
    "tuneAndDraw.draw(df,method.asynchronousTrain2,\"async synthetic quadratic possionBeta=[4, 5, 10, 4, 2, 1, 2, 7, 100, 5]\",filename,save=0,asyn=1,possionBeta = [4, 5, 10, 4, 2, 1, 2, 7,100,5])"
   ]
  },
  {
   "cell_type": "markdown",
   "metadata": {},
   "source": [
    "### innerloops"
   ]
  },
  {
   "cell_type": "code",
   "execution_count": null,
   "metadata": {},
   "outputs": [],
   "source": [
    "method,tuneAndDraw = prepare(10,10000)\n",
    "ns=[0,2,4,6,8,10]\n",
    "innerIterations =4\n",
    "df = tuneAndDraw.readPa(ns,innerIterations)\n",
    "filename=\"./sync_and_async/1 synthetic quadratic innerloop 4 before2.pdf\"\n",
    "tuneAndDraw.draw(df,method.train_innerloop_lambdaBefore,\"synthetic quadratic innerloop 4\",filename,save = 0,asyn=0,possionBeta=[])"
   ]
  }
 ],
 "metadata": {
  "kernelspec": {
   "display_name": "Python 3.9.13 ('cs349hw2')",
   "language": "python",
   "name": "python3"
  },
  "language_info": {
   "codemirror_mode": {
    "name": "ipython",
    "version": 3
   },
   "file_extension": ".py",
   "mimetype": "text/x-python",
   "name": "python",
   "nbconvert_exporter": "python",
   "pygments_lexer": "ipython3",
   "version": "3.9.13"
  },
  "orig_nbformat": 4,
  "vscode": {
   "interpreter": {
    "hash": "83c011b6d1fd8ab47b12eb316f3cd78cbb02a3d22bfe1a70b86554592d45d8b7"
   }
  }
 },
 "nbformat": 4,
 "nbformat_minor": 2
}
